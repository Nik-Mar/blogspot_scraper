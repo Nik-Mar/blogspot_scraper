{
 "cells": [
  {
   "cell_type": "code",
   "execution_count": 1,
   "metadata": {},
   "outputs": [],
   "source": [
    "import json\n",
    "import os\n",
    "import numpy"
   ]
  },
  {
   "cell_type": "code",
   "execution_count": 2,
   "metadata": {},
   "outputs": [],
   "source": [
    "folder_path=r\"C:\\Users\\marja\\Documents\\Python_Scripts\\Blogspot\\prevalence\\fixed_blogs\"\n"
   ]
  },
  {
   "cell_type": "code",
   "execution_count": 4,
   "metadata": {},
   "outputs": [],
   "source": [
    "def check_json(file_path):\n",
    "    try:\n",
    "        with open(file_path) as f:\n",
    "            json.load(f)\n",
    "        return None  # No error, JSON is valid\n",
    "    except (json.JSONDecodeError, FileNotFoundError) as e:\n",
    "        return str(e)  # Return the error message\n",
    "\n",
    "def find_invalid_json_files(folder_path):\n",
    "    invalid_files = {}\n",
    "    for root, dirs, files in os.walk(folder_path):\n",
    "        for file in files:\n",
    "            file_path = os.path.join(root, file)\n",
    "            if file_path.endswith('.json'):\n",
    "                error_message = check_json(file_path)\n",
    "                if error_message:\n",
    "                    invalid_files[file_path] = error_message\n",
    "    return invalid_files\n",
    "\n"
   ]
  },
  {
   "cell_type": "code",
   "execution_count": 5,
   "metadata": {},
   "outputs": [
    {
     "name": "stdout",
     "output_type": "stream",
     "text": [
      "No invalid JSON files found.\n"
     ]
    }
   ],
   "source": [
    "invalid_files = find_invalid_json_files(folder_path)\n",
    "\n",
    "if invalid_files:\n",
    "    print(\"Invalid JSON files:\")\n",
    "    for file_path, error_message in invalid_files.items():\n",
    "        print(f\"{file_path}: {error_message}\")\n",
    "else:\n",
    "    print(\"No invalid JSON files found.\")"
   ]
  },
  {
   "cell_type": "markdown",
   "metadata": {},
   "source": [
    "#splitting big blogs in two"
   ]
  },
  {
   "cell_type": "code",
   "execution_count": 29,
   "metadata": {},
   "outputs": [],
   "source": [
    "def split_json_file(file_path, max_size_bytes):\n",
    "    with open(file_path, 'r') as f:\n",
    "        data = json.load(f)\n",
    "\n",
    "    file_name, file_extension = os.path.splitext(file_path)\n",
    "    part_num = 1\n",
    "    current_size = 0\n",
    "    current_data = []\n",
    "\n",
    "    for item in data:\n",
    "        current_data.append(item)\n",
    "        current_size += len(json.dumps(item))\n",
    "\n",
    "        if current_size >= max_size_bytes:\n",
    "            part_file_path = f\"{file_name}_part{part_num}{file_extension}\"\n",
    "            with open(part_file_path, 'w') as part_file:\n",
    "                json.dump(current_data, part_file)\n",
    "            part_num += 1\n",
    "            current_size = 0\n",
    "            current_data = []\n",
    "\n",
    "    if current_data:\n",
    "        part_file_path = f\"{file_name}_part{part_num}{file_extension}\"\n",
    "        with open(part_file_path, 'w') as part_file:\n",
    "            json.dump(current_data, part_file)\n",
    "\n",
    "def split_large_json_files_in_folder(folder_path, max_size_mb):\n",
    "    max_size_bytes = max_size_mb * 1024 * 1024  # Convert MB to bytes\n",
    "    for root, dirs, files in os.walk(folder_path):\n",
    "        for file in files:\n",
    "            file_path = os.path.join(root, file)\n",
    "            if file_path.endswith('.json') and os.path.getsize(file_path) > max_size_bytes:\n",
    "                split_json_file(file_path, max_size_bytes)"
   ]
  },
  {
   "cell_type": "code",
   "execution_count": 30,
   "metadata": {},
   "outputs": [],
   "source": [
    "max_size_mb = 10\n",
    "split_large_json_files_in_folder(folder_path, max_size_mb)"
   ]
  }
 ],
 "metadata": {
  "kernelspec": {
   "display_name": "nlp_assignments",
   "language": "python",
   "name": "python3"
  },
  "language_info": {
   "codemirror_mode": {
    "name": "ipython",
    "version": 3
   },
   "file_extension": ".py",
   "mimetype": "text/x-python",
   "name": "python",
   "nbconvert_exporter": "python",
   "pygments_lexer": "ipython3",
   "version": "3.11.3"
  }
 },
 "nbformat": 4,
 "nbformat_minor": 2
}
